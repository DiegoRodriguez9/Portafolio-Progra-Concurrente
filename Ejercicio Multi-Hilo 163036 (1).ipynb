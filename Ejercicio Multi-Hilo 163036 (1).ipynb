{
 "cells": [
  {
   "cell_type": "code",
   "execution_count": 8,
   "id": "252a222e",
   "metadata": {},
   "outputs": [
    {
     "name": "stdout",
     "output_type": "stream",
     "text": [
      "el logaritmo natural de a+b: 2.4849066497880004\n",
      "el valor absoluto a-b:  2\n",
      "a elevado a la b potencia: 78125\n"
     ]
    }
   ],
   "source": [
    "#Proyecto multi-hilos \n",
    "#Diego Rdz 163036\n",
    "\n",
    "import threading\n",
    "import math\n",
    "\n",
    "#Primera funcion\n",
    "def log(a,b):\n",
    "    print(\"el logaritmo natural de a+b:\", math.log(a + b))\n",
    "    \n",
    "#Segunda función\n",
    "def ab(a,b):\n",
    "    print(\"el valor absoluto a-b: \", abs(a-b))\n",
    "    \n",
    "#Tercera función\n",
    "def potencia(a,b):\n",
    "    print(\"a elevado a la b potencia:\",a ** b )\n",
    "    \n",
    "#Creamos Hilos\n",
    "t1 = threading.Thread(target=log, args=(5,7))\n",
    "t2 = threading.Thread(target=ab, args=(5,7))\n",
    "t3 = threading.Thread(target=potencia,args=(5,7))\n",
    "\n",
    "#Iniciamos Hilos\n",
    "t1.start()\n",
    "t2.start()\n",
    "t3.start()\n",
    "\n",
    "#Finalizamos Hilos\n",
    "t1.join()\n",
    "t2.join()\n",
    "t3.join()\n",
    "\n"
   ]
  },
  {
   "cell_type": "code",
   "execution_count": 10,
   "id": "5771bf13",
   "metadata": {},
   "outputs": [
    {
     "name": "stdout",
     "output_type": "stream",
     "text": [
      "el logaritmo natural de a+b: 2.4849066497880004\n",
      "el valor absoluto a-b:  2\n",
      "a elevado a la b potencia: 78125\n"
     ]
    }
   ],
   "source": [
    "#Ejecuta nuevamente las tres funciones de manera concurrente. Esta vez, juega con el parámetro timeout del método .join. \n",
    "#¿Observas algo raro? Describe qué viste y a qué crees que se deba.\n",
    "\n",
    "import threading\n",
    "import math\n",
    "\n",
    "#Primera funcion\n",
    "def log(a,b):\n",
    "    print(\"el logaritmo natural de a+b:\", math.log(a + b))\n",
    "    \n",
    "#Segunda función\n",
    "def ab(a,b):\n",
    "    print(\"el valor absoluto a-b: \", abs(a-b))\n",
    "    \n",
    "#Tercera función\n",
    "def potencia(a,b):\n",
    "    print(\"a elevado a la b potencia:\",a ** b )\n",
    "    \n",
    "#Creamos Hilos\n",
    "t1 = threading.Thread(target=log, args=(5,7))\n",
    "t2 = threading.Thread(target=ab, args=(5,7))\n",
    "t3 = threading.Thread(target=potencia,args=(5,7))\n",
    "\n",
    "#Iniciamos Hilos\n",
    "t1.start()\n",
    "t2.start()\n",
    "t3.start()\n",
    "\n",
    "#Finalizamos Hilos\n",
    "t1.join(timeout=3)\n",
    "t2.join(timeout=3)\n",
    "t3.join(timeout=3)\n",
    "\n",
    "#Lo unico que puedo llegar a notar es que en dado caso que alguno de los hilos no completa su ejecución en los 3 segundos, el programa continuará ejecutándose después de ese tiempo.\n",
    "# y tambien que si el hilo termina antes de que el tiempo especificado transcurra, el programa no esperará más."
   ]
  },
  {
   "cell_type": "code",
   "execution_count": null,
   "id": "20aeb9a3",
   "metadata": {},
   "outputs": [],
   "source": []
  },
  {
   "cell_type": "code",
   "execution_count": null,
   "id": "375f14b7",
   "metadata": {},
   "outputs": [],
   "source": []
  }
 ],
 "metadata": {
  "kernelspec": {
   "display_name": "Python 3 (ipykernel)",
   "language": "python",
   "name": "python3"
  },
  "language_info": {
   "codemirror_mode": {
    "name": "ipython",
    "version": 3
   },
   "file_extension": ".py",
   "mimetype": "text/x-python",
   "name": "python",
   "nbconvert_exporter": "python",
   "pygments_lexer": "ipython3",
   "version": "3.11.5"
  }
 },
 "nbformat": 4,
 "nbformat_minor": 5
}
