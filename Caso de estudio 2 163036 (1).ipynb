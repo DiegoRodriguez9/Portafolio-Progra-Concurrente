{
 "cells": [
  {
   "cell_type": "code",
   "execution_count": 1,
   "id": "2b23034b",
   "metadata": {},
   "outputs": [
    {
     "name": "stdout",
     "output_type": "stream",
     "text": [
      "Tiempo secuencial: 0.07850885391235352 segundos\n"
     ]
    }
   ],
   "source": [
    "#Caso de estudio 2 Multi hilos vs Multi Procesos\n",
    "#Diego Rdz 163036\n",
    "#¿Cuál es más eficiente?\n",
    "\n",
    "#-Secuencial\n",
    "#-Concurrente con Multi-hilos\n",
    "#-Concurrente con Multi-Procesos.\n",
    "\n",
    "\n",
    "#Busca un ejemplo, ya sea en internet o uno que propongas. Prueba los tres enfoques (incluye el código), mide el tiempo que tarda cada uno en ejecutar y explica por qué ganó el que tomó menos tiempo en tus propias palabras.\n",
    "\n",
    "\n",
    "#Vamos a dividir los 3 codigos para posteriormente ver su tiempo de respuesta y asi poder ver cual es mas rapido, con un sencillo ejemplo:\n",
    "#El objetivo será calcular el cuadrado de una lista de números de manera secuencial, utilizando múltiples hilos y utilizando múltiples procesos.\n",
    "\n",
    "#Es importante tener en cuenta cuales son los resultados esperados de cada código para asi poder tener una conclusión más objetiva\n",
    "#Asi que en el caso del secuencial lo que esta pasando es que Este enfoque recorrerá la lista número por número, realizando el cálculo de manera lineal.\n",
    "#la CPU está completamente dedicada a un solo hilo, y esto puede resultar en un limitante de multiplos nucleos.\n",
    "\n",
    "#Ahora por otra parte en el concurrente con hilos varias partes de la lista se procesarán simultáneamente.\n",
    "\n",
    "#Finalmente con el multi-procesos lo que se espera es que distribuyendo el trabajo en varios nucleos de la CPU, tenga un mejor rendimiento significativo ya que al estar corriendo en paralelo podemos ver una mejoría en el tiempo de ejecución\n",
    "\n"
   ]
  },
  {
   "cell_type": "code",
   "execution_count": 4,
   "id": "b730e1f8",
   "metadata": {},
   "outputs": [
    {
     "name": "stdout",
     "output_type": "stream",
     "text": [
      "Tiempo secuencial: 0.07139992713928223 segundos\n"
     ]
    }
   ],
   "source": [
    "#Código secuencial\n",
    "\n",
    "import time\n",
    "\n",
    "def square_numbers(numbers):\n",
    "    result = []\n",
    "    for num in numbers:\n",
    "        result.append(num * num)\n",
    "    return result\n",
    "\n",
    "numbers = range(1, 10**6)  \n",
    "start_time = time.time()\n",
    "square_numbers(numbers)\n",
    "print(f\"Tiempo secuencial: {time.time() - start_time} segundos\")\n"
   ]
  },
  {
   "cell_type": "code",
   "execution_count": 2,
   "id": "26f166d2",
   "metadata": {},
   "outputs": [
    {
     "name": "stdout",
     "output_type": "stream",
     "text": [
      "Tiempo con hilos: 0.06922507286071777 segundos\n"
     ]
    }
   ],
   "source": [
    "#Código concurrente con Multi-Hilos\n",
    "\n",
    "import time\n",
    "import threading\n",
    "\n",
    "def square_numbers_thread(numbers):\n",
    "    result = []\n",
    "    for num in numbers:\n",
    "        result.append(num * num)\n",
    "    return result\n",
    "\n",
    "numbers = range(1, 10**6)\n",
    "n_threads = 4  # Número de hilos\n",
    "chunk_size = len(numbers) // n_threads\n",
    "\n",
    "threads = []\n",
    "start_time = time.time()\n",
    "\n",
    "for i in range(n_threads):\n",
    "    start = i * chunk_size\n",
    "    end = (i + 1) * chunk_size if i != n_threads - 1 else len(numbers)\n",
    "    thread = threading.Thread(target=square_numbers_thread, args=(numbers[start:end],))\n",
    "    threads.append(thread)\n",
    "    thread.start()\n",
    "\n",
    "for thread in threads:\n",
    "    thread.join()\n",
    "\n",
    "print(f\"Tiempo con hilos: {time.time() - start_time} segundos\")\n"
   ]
  },
  {
   "cell_type": "code",
   "execution_count": 3,
   "id": "a3ea391e",
   "metadata": {},
   "outputs": [
    {
     "name": "stdout",
     "output_type": "stream",
     "text": [
      "Tiempo con procesos: 0.12322258949279785 segundos\n"
     ]
    }
   ],
   "source": [
    "#Código Concurrente con Multi-procesos\n",
    "\n",
    "import time\n",
    "import multiprocessing\n",
    "\n",
    "def square_numbers_process(numbers):\n",
    "    result = []\n",
    "    for num in numbers:\n",
    "        result.append(num * num)\n",
    "    return result\n",
    "\n",
    "if __name__ == '__main__':\n",
    "    numbers = range(1, 10**6)\n",
    "    n_processes = 4  # Número de procesos\n",
    "    chunk_size = len(numbers) // n_processes\n",
    "\n",
    "    processes = []\n",
    "    start_time = time.time()\n",
    "\n",
    "    for i in range(n_processes):\n",
    "        start = i * chunk_size\n",
    "        end = (i + 1) * chunk_size if i != n_processes - 1 else len(numbers)\n",
    "        process = multiprocessing.Process(target=square_numbers_process, args=(numbers[start:end],))\n",
    "        processes.append(process)\n",
    "        process.start()\n",
    "\n",
    "    for process in processes:\n",
    "        process.join()\n",
    "\n",
    "    print(f\"Tiempo con procesos: {time.time() - start_time} segundos\")\n"
   ]
  },
  {
   "cell_type": "code",
   "execution_count": null,
   "id": "3bdeb255",
   "metadata": {},
   "outputs": [],
   "source": [
    "#Resultados Obtenidos:\n",
    "\n",
    "#Aquí están los tiempos de ejecución medidos para los tres procesos:\n",
    "\n",
    " #1.Secuencial: 0.077 segundos.\n",
    " #2.Multi-hilos: 0.069 segundos.\n",
    " #3.Multi-procesos: 0.12 segundos.\n",
    "    \n",
    "#Conclusión:\n",
    "#El proceso de multi-hilos fue el más eficiente debido a la baja sobrecarga de poder gestionar hilos en comparación con el multi- procesos, \n",
    "#aunque los hilos no aprovechan múltiples núcleos de manera óptima en Python, se pudo observar una ligera eficacia en el tiempo. \n",
    "#Aunque es importante mencionar que para posibles cálculos pesados y situaciones donde la concurrencia real es necesaria, multi-procesos podría ser más eficiente, pero aquí el trabajo de dividir procesos fue más costoso a comparacion de usar múltiples núcleos.\n"
   ]
  }
 ],
 "metadata": {
  "kernelspec": {
   "display_name": "Python 3 (ipykernel)",
   "language": "python",
   "name": "python3"
  },
  "language_info": {
   "codemirror_mode": {
    "name": "ipython",
    "version": 3
   },
   "file_extension": ".py",
   "mimetype": "text/x-python",
   "name": "python",
   "nbconvert_exporter": "python",
   "pygments_lexer": "ipython3",
   "version": "3.11.5"
  }
 },
 "nbformat": 4,
 "nbformat_minor": 5
}
