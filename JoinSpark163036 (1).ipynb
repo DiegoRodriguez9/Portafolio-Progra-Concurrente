{
  "nbformat": 4,
  "nbformat_minor": 0,
  "metadata": {
    "colab": {
      "provenance": []
    },
    "kernelspec": {
      "name": "python3",
      "display_name": "Python 3"
    },
    "language_info": {
      "name": "python"
    }
  },
  "cells": [
    {
      "cell_type": "markdown",
      "source": [
        "##JOINS CON SPARK DIEGO RDZ 163036\n"
      ],
      "metadata": {
        "id": "CGAInpYMG7An"
      }
    },
    {
      "cell_type": "code",
      "execution_count": 1,
      "metadata": {
        "id": "3eSPIS35hjJv"
      },
      "outputs": [],
      "source": [
        "from pyspark.sql import SparkSession\n",
        "from pyspark.sql.functions import col, lit, to_timestamp"
      ]
    },
    {
      "cell_type": "code",
      "source": [
        "spark = SparkSession.builder.master(\"local[*]\").getOrCreate()\n",
        "spark"
      ],
      "metadata": {
        "colab": {
          "base_uri": "https://localhost:8080/",
          "height": 219
        },
        "id": "ieAXFPk-HCKc",
        "outputId": "2a593396-bf4d-4d3d-caf3-ec814f9fcc8e"
      },
      "execution_count": 2,
      "outputs": [
        {
          "output_type": "execute_result",
          "data": {
            "text/plain": [
              "<pyspark.sql.session.SparkSession at 0x7b9744417b80>"
            ],
            "text/html": [
              "\n",
              "            <div>\n",
              "                <p><b>SparkSession - in-memory</b></p>\n",
              "                \n",
              "        <div>\n",
              "            <p><b>SparkContext</b></p>\n",
              "\n",
              "            <p><a href=\"http://42536662c3e9:4040\">Spark UI</a></p>\n",
              "\n",
              "            <dl>\n",
              "              <dt>Version</dt>\n",
              "                <dd><code>v3.5.3</code></dd>\n",
              "              <dt>Master</dt>\n",
              "                <dd><code>local[*]</code></dd>\n",
              "              <dt>AppName</dt>\n",
              "                <dd><code>pyspark-shell</code></dd>\n",
              "            </dl>\n",
              "        </div>\n",
              "        \n",
              "            </div>\n",
              "        "
            ]
          },
          "metadata": {},
          "execution_count": 2
        }
      ]
    },
    {
      "cell_type": "code",
      "source": [
        "from google.colab import files\n",
        "uploaded = files.upload()"
      ],
      "metadata": {
        "colab": {
          "base_uri": "https://localhost:8080/",
          "height": 73
        },
        "id": "7r959k8jHywN",
        "outputId": "64402fa9-70f8-43f7-a624-629efc12db96"
      },
      "execution_count": 3,
      "outputs": [
        {
          "output_type": "display_data",
          "data": {
            "text/plain": [
              "<IPython.core.display.HTML object>"
            ],
            "text/html": [
              "\n",
              "     <input type=\"file\" id=\"files-8824c2aa-6987-479c-b04e-fa34b62fe4ac\" name=\"files[]\" multiple disabled\n",
              "        style=\"border:none\" />\n",
              "     <output id=\"result-8824c2aa-6987-479c-b04e-fa34b62fe4ac\">\n",
              "      Upload widget is only available when the cell has been executed in the\n",
              "      current browser session. Please rerun this cell to enable.\n",
              "      </output>\n",
              "      <script>// Copyright 2017 Google LLC\n",
              "//\n",
              "// Licensed under the Apache License, Version 2.0 (the \"License\");\n",
              "// you may not use this file except in compliance with the License.\n",
              "// You may obtain a copy of the License at\n",
              "//\n",
              "//      http://www.apache.org/licenses/LICENSE-2.0\n",
              "//\n",
              "// Unless required by applicable law or agreed to in writing, software\n",
              "// distributed under the License is distributed on an \"AS IS\" BASIS,\n",
              "// WITHOUT WARRANTIES OR CONDITIONS OF ANY KIND, either express or implied.\n",
              "// See the License for the specific language governing permissions and\n",
              "// limitations under the License.\n",
              "\n",
              "/**\n",
              " * @fileoverview Helpers for google.colab Python module.\n",
              " */\n",
              "(function(scope) {\n",
              "function span(text, styleAttributes = {}) {\n",
              "  const element = document.createElement('span');\n",
              "  element.textContent = text;\n",
              "  for (const key of Object.keys(styleAttributes)) {\n",
              "    element.style[key] = styleAttributes[key];\n",
              "  }\n",
              "  return element;\n",
              "}\n",
              "\n",
              "// Max number of bytes which will be uploaded at a time.\n",
              "const MAX_PAYLOAD_SIZE = 100 * 1024;\n",
              "\n",
              "function _uploadFiles(inputId, outputId) {\n",
              "  const steps = uploadFilesStep(inputId, outputId);\n",
              "  const outputElement = document.getElementById(outputId);\n",
              "  // Cache steps on the outputElement to make it available for the next call\n",
              "  // to uploadFilesContinue from Python.\n",
              "  outputElement.steps = steps;\n",
              "\n",
              "  return _uploadFilesContinue(outputId);\n",
              "}\n",
              "\n",
              "// This is roughly an async generator (not supported in the browser yet),\n",
              "// where there are multiple asynchronous steps and the Python side is going\n",
              "// to poll for completion of each step.\n",
              "// This uses a Promise to block the python side on completion of each step,\n",
              "// then passes the result of the previous step as the input to the next step.\n",
              "function _uploadFilesContinue(outputId) {\n",
              "  const outputElement = document.getElementById(outputId);\n",
              "  const steps = outputElement.steps;\n",
              "\n",
              "  const next = steps.next(outputElement.lastPromiseValue);\n",
              "  return Promise.resolve(next.value.promise).then((value) => {\n",
              "    // Cache the last promise value to make it available to the next\n",
              "    // step of the generator.\n",
              "    outputElement.lastPromiseValue = value;\n",
              "    return next.value.response;\n",
              "  });\n",
              "}\n",
              "\n",
              "/**\n",
              " * Generator function which is called between each async step of the upload\n",
              " * process.\n",
              " * @param {string} inputId Element ID of the input file picker element.\n",
              " * @param {string} outputId Element ID of the output display.\n",
              " * @return {!Iterable<!Object>} Iterable of next steps.\n",
              " */\n",
              "function* uploadFilesStep(inputId, outputId) {\n",
              "  const inputElement = document.getElementById(inputId);\n",
              "  inputElement.disabled = false;\n",
              "\n",
              "  const outputElement = document.getElementById(outputId);\n",
              "  outputElement.innerHTML = '';\n",
              "\n",
              "  const pickedPromise = new Promise((resolve) => {\n",
              "    inputElement.addEventListener('change', (e) => {\n",
              "      resolve(e.target.files);\n",
              "    });\n",
              "  });\n",
              "\n",
              "  const cancel = document.createElement('button');\n",
              "  inputElement.parentElement.appendChild(cancel);\n",
              "  cancel.textContent = 'Cancel upload';\n",
              "  const cancelPromise = new Promise((resolve) => {\n",
              "    cancel.onclick = () => {\n",
              "      resolve(null);\n",
              "    };\n",
              "  });\n",
              "\n",
              "  // Wait for the user to pick the files.\n",
              "  const files = yield {\n",
              "    promise: Promise.race([pickedPromise, cancelPromise]),\n",
              "    response: {\n",
              "      action: 'starting',\n",
              "    }\n",
              "  };\n",
              "\n",
              "  cancel.remove();\n",
              "\n",
              "  // Disable the input element since further picks are not allowed.\n",
              "  inputElement.disabled = true;\n",
              "\n",
              "  if (!files) {\n",
              "    return {\n",
              "      response: {\n",
              "        action: 'complete',\n",
              "      }\n",
              "    };\n",
              "  }\n",
              "\n",
              "  for (const file of files) {\n",
              "    const li = document.createElement('li');\n",
              "    li.append(span(file.name, {fontWeight: 'bold'}));\n",
              "    li.append(span(\n",
              "        `(${file.type || 'n/a'}) - ${file.size} bytes, ` +\n",
              "        `last modified: ${\n",
              "            file.lastModifiedDate ? file.lastModifiedDate.toLocaleDateString() :\n",
              "                                    'n/a'} - `));\n",
              "    const percent = span('0% done');\n",
              "    li.appendChild(percent);\n",
              "\n",
              "    outputElement.appendChild(li);\n",
              "\n",
              "    const fileDataPromise = new Promise((resolve) => {\n",
              "      const reader = new FileReader();\n",
              "      reader.onload = (e) => {\n",
              "        resolve(e.target.result);\n",
              "      };\n",
              "      reader.readAsArrayBuffer(file);\n",
              "    });\n",
              "    // Wait for the data to be ready.\n",
              "    let fileData = yield {\n",
              "      promise: fileDataPromise,\n",
              "      response: {\n",
              "        action: 'continue',\n",
              "      }\n",
              "    };\n",
              "\n",
              "    // Use a chunked sending to avoid message size limits. See b/62115660.\n",
              "    let position = 0;\n",
              "    do {\n",
              "      const length = Math.min(fileData.byteLength - position, MAX_PAYLOAD_SIZE);\n",
              "      const chunk = new Uint8Array(fileData, position, length);\n",
              "      position += length;\n",
              "\n",
              "      const base64 = btoa(String.fromCharCode.apply(null, chunk));\n",
              "      yield {\n",
              "        response: {\n",
              "          action: 'append',\n",
              "          file: file.name,\n",
              "          data: base64,\n",
              "        },\n",
              "      };\n",
              "\n",
              "      let percentDone = fileData.byteLength === 0 ?\n",
              "          100 :\n",
              "          Math.round((position / fileData.byteLength) * 100);\n",
              "      percent.textContent = `${percentDone}% done`;\n",
              "\n",
              "    } while (position < fileData.byteLength);\n",
              "  }\n",
              "\n",
              "  // All done.\n",
              "  yield {\n",
              "    response: {\n",
              "      action: 'complete',\n",
              "    }\n",
              "  };\n",
              "}\n",
              "\n",
              "scope.google = scope.google || {};\n",
              "scope.google.colab = scope.google.colab || {};\n",
              "scope.google.colab._files = {\n",
              "  _uploadFiles,\n",
              "  _uploadFilesContinue,\n",
              "};\n",
              "})(self);\n",
              "</script> "
            ]
          },
          "metadata": {}
        },
        {
          "output_type": "stream",
          "name": "stdout",
          "text": [
            "Saving customer_profile_dataset.csv to customer_profile_dataset.csv\n"
          ]
        }
      ]
    },
    {
      "cell_type": "code",
      "source": [
        "customer = spark.read.csv('customer_profile_dataset.csv', header=True)\n",
        "customer.show(5)"
      ],
      "metadata": {
        "colab": {
          "base_uri": "https://localhost:8080/"
        },
        "id": "ycz2SrszH5Em",
        "outputId": "963d2762-318e-40f9-c86f-30384eb64229"
      },
      "execution_count": 4,
      "outputs": [
        {
          "output_type": "stream",
          "name": "stdout",
          "text": [
            "+-----------+----------+---------+------+-------------------+--------------------+------------+-------------------+-------------+-----------+-----+--------+\n",
            "|customer_id|first_name|last_name|gender|      date_of_birth|               email|phone_number|        signup_date|      address|       city|state|zip_code|\n",
            "+-----------+----------+---------+------+-------------------+--------------------+------------+-------------------+-------------+-----------+-----+--------+\n",
            "|          1|    Robert|    Smith|Female|1994-06-14 21:40:27|jane.davis1@mail.com|634-106-4981|2016-10-16 17:23:25| 8465 Main St|San Antonio|   CA|   35566|\n",
            "|          2|     Emily|   Garcia|Female|1989-09-21 17:56:31|robert.williams2@...|386-635-5998|2021-04-04 14:24:06|  305 Main St|   New York|   AZ|   23187|\n",
            "|          3|   Jessica|    Brown|  Male|1984-01-21 21:43:13|emily.davis3@mail...|627-341-5213|2018-04-22 04:51:57|  5725 Oak St|    Chicago|   AZ|   99188|\n",
            "|          4|   Michael|    Brown|  Male|1986-02-06 13:09:53|jessica.williams4...|126-662-8981|2018-07-06 17:45:14|  8468 Oak St|Los Angeles|   TX|   77421|\n",
            "|          5|    Robert|    Jones|  Male|1996-12-05 05:10:11|robert.martinez5@...|758-947-2802|2018-03-11 01:43:10|2820 Maple St|    Chicago|   TX|   36281|\n",
            "+-----------+----------+---------+------+-------------------+--------------------+------------+-------------------+-------------+-----------+-----+--------+\n",
            "only showing top 5 rows\n",
            "\n"
          ]
        }
      ]
    },
    {
      "cell_type": "code",
      "source": [
        "from google.colab import files\n",
        "uploaded = files.upload()"
      ],
      "metadata": {
        "colab": {
          "base_uri": "https://localhost:8080/",
          "height": 73
        },
        "id": "c9glhWxbH5KL",
        "outputId": "0bf8b18e-f1c2-4b32-99ff-1983b96cdf02"
      },
      "execution_count": 5,
      "outputs": [
        {
          "output_type": "display_data",
          "data": {
            "text/plain": [
              "<IPython.core.display.HTML object>"
            ],
            "text/html": [
              "\n",
              "     <input type=\"file\" id=\"files-ed8f840f-c2b4-468c-9e74-de74e24ced67\" name=\"files[]\" multiple disabled\n",
              "        style=\"border:none\" />\n",
              "     <output id=\"result-ed8f840f-c2b4-468c-9e74-de74e24ced67\">\n",
              "      Upload widget is only available when the cell has been executed in the\n",
              "      current browser session. Please rerun this cell to enable.\n",
              "      </output>\n",
              "      <script>// Copyright 2017 Google LLC\n",
              "//\n",
              "// Licensed under the Apache License, Version 2.0 (the \"License\");\n",
              "// you may not use this file except in compliance with the License.\n",
              "// You may obtain a copy of the License at\n",
              "//\n",
              "//      http://www.apache.org/licenses/LICENSE-2.0\n",
              "//\n",
              "// Unless required by applicable law or agreed to in writing, software\n",
              "// distributed under the License is distributed on an \"AS IS\" BASIS,\n",
              "// WITHOUT WARRANTIES OR CONDITIONS OF ANY KIND, either express or implied.\n",
              "// See the License for the specific language governing permissions and\n",
              "// limitations under the License.\n",
              "\n",
              "/**\n",
              " * @fileoverview Helpers for google.colab Python module.\n",
              " */\n",
              "(function(scope) {\n",
              "function span(text, styleAttributes = {}) {\n",
              "  const element = document.createElement('span');\n",
              "  element.textContent = text;\n",
              "  for (const key of Object.keys(styleAttributes)) {\n",
              "    element.style[key] = styleAttributes[key];\n",
              "  }\n",
              "  return element;\n",
              "}\n",
              "\n",
              "// Max number of bytes which will be uploaded at a time.\n",
              "const MAX_PAYLOAD_SIZE = 100 * 1024;\n",
              "\n",
              "function _uploadFiles(inputId, outputId) {\n",
              "  const steps = uploadFilesStep(inputId, outputId);\n",
              "  const outputElement = document.getElementById(outputId);\n",
              "  // Cache steps on the outputElement to make it available for the next call\n",
              "  // to uploadFilesContinue from Python.\n",
              "  outputElement.steps = steps;\n",
              "\n",
              "  return _uploadFilesContinue(outputId);\n",
              "}\n",
              "\n",
              "// This is roughly an async generator (not supported in the browser yet),\n",
              "// where there are multiple asynchronous steps and the Python side is going\n",
              "// to poll for completion of each step.\n",
              "// This uses a Promise to block the python side on completion of each step,\n",
              "// then passes the result of the previous step as the input to the next step.\n",
              "function _uploadFilesContinue(outputId) {\n",
              "  const outputElement = document.getElementById(outputId);\n",
              "  const steps = outputElement.steps;\n",
              "\n",
              "  const next = steps.next(outputElement.lastPromiseValue);\n",
              "  return Promise.resolve(next.value.promise).then((value) => {\n",
              "    // Cache the last promise value to make it available to the next\n",
              "    // step of the generator.\n",
              "    outputElement.lastPromiseValue = value;\n",
              "    return next.value.response;\n",
              "  });\n",
              "}\n",
              "\n",
              "/**\n",
              " * Generator function which is called between each async step of the upload\n",
              " * process.\n",
              " * @param {string} inputId Element ID of the input file picker element.\n",
              " * @param {string} outputId Element ID of the output display.\n",
              " * @return {!Iterable<!Object>} Iterable of next steps.\n",
              " */\n",
              "function* uploadFilesStep(inputId, outputId) {\n",
              "  const inputElement = document.getElementById(inputId);\n",
              "  inputElement.disabled = false;\n",
              "\n",
              "  const outputElement = document.getElementById(outputId);\n",
              "  outputElement.innerHTML = '';\n",
              "\n",
              "  const pickedPromise = new Promise((resolve) => {\n",
              "    inputElement.addEventListener('change', (e) => {\n",
              "      resolve(e.target.files);\n",
              "    });\n",
              "  });\n",
              "\n",
              "  const cancel = document.createElement('button');\n",
              "  inputElement.parentElement.appendChild(cancel);\n",
              "  cancel.textContent = 'Cancel upload';\n",
              "  const cancelPromise = new Promise((resolve) => {\n",
              "    cancel.onclick = () => {\n",
              "      resolve(null);\n",
              "    };\n",
              "  });\n",
              "\n",
              "  // Wait for the user to pick the files.\n",
              "  const files = yield {\n",
              "    promise: Promise.race([pickedPromise, cancelPromise]),\n",
              "    response: {\n",
              "      action: 'starting',\n",
              "    }\n",
              "  };\n",
              "\n",
              "  cancel.remove();\n",
              "\n",
              "  // Disable the input element since further picks are not allowed.\n",
              "  inputElement.disabled = true;\n",
              "\n",
              "  if (!files) {\n",
              "    return {\n",
              "      response: {\n",
              "        action: 'complete',\n",
              "      }\n",
              "    };\n",
              "  }\n",
              "\n",
              "  for (const file of files) {\n",
              "    const li = document.createElement('li');\n",
              "    li.append(span(file.name, {fontWeight: 'bold'}));\n",
              "    li.append(span(\n",
              "        `(${file.type || 'n/a'}) - ${file.size} bytes, ` +\n",
              "        `last modified: ${\n",
              "            file.lastModifiedDate ? file.lastModifiedDate.toLocaleDateString() :\n",
              "                                    'n/a'} - `));\n",
              "    const percent = span('0% done');\n",
              "    li.appendChild(percent);\n",
              "\n",
              "    outputElement.appendChild(li);\n",
              "\n",
              "    const fileDataPromise = new Promise((resolve) => {\n",
              "      const reader = new FileReader();\n",
              "      reader.onload = (e) => {\n",
              "        resolve(e.target.result);\n",
              "      };\n",
              "      reader.readAsArrayBuffer(file);\n",
              "    });\n",
              "    // Wait for the data to be ready.\n",
              "    let fileData = yield {\n",
              "      promise: fileDataPromise,\n",
              "      response: {\n",
              "        action: 'continue',\n",
              "      }\n",
              "    };\n",
              "\n",
              "    // Use a chunked sending to avoid message size limits. See b/62115660.\n",
              "    let position = 0;\n",
              "    do {\n",
              "      const length = Math.min(fileData.byteLength - position, MAX_PAYLOAD_SIZE);\n",
              "      const chunk = new Uint8Array(fileData, position, length);\n",
              "      position += length;\n",
              "\n",
              "      const base64 = btoa(String.fromCharCode.apply(null, chunk));\n",
              "      yield {\n",
              "        response: {\n",
              "          action: 'append',\n",
              "          file: file.name,\n",
              "          data: base64,\n",
              "        },\n",
              "      };\n",
              "\n",
              "      let percentDone = fileData.byteLength === 0 ?\n",
              "          100 :\n",
              "          Math.round((position / fileData.byteLength) * 100);\n",
              "      percent.textContent = `${percentDone}% done`;\n",
              "\n",
              "    } while (position < fileData.byteLength);\n",
              "  }\n",
              "\n",
              "  // All done.\n",
              "  yield {\n",
              "    response: {\n",
              "      action: 'complete',\n",
              "    }\n",
              "  };\n",
              "}\n",
              "\n",
              "scope.google = scope.google || {};\n",
              "scope.google.colab = scope.google.colab || {};\n",
              "scope.google.colab._files = {\n",
              "  _uploadFiles,\n",
              "  _uploadFilesContinue,\n",
              "};\n",
              "})(self);\n",
              "</script> "
            ]
          },
          "metadata": {}
        },
        {
          "output_type": "stream",
          "name": "stdout",
          "text": [
            "Saving products_dataset.csv to products_dataset.csv\n"
          ]
        }
      ]
    },
    {
      "cell_type": "code",
      "source": [
        "products = spark.read.csv('products_dataset.csv', header=True)\n",
        "products.show(5)"
      ],
      "metadata": {
        "colab": {
          "base_uri": "https://localhost:8080/"
        },
        "id": "r5RQz7zkH5Ss",
        "outputId": "7474dd26-aea3-4afe-ec3c-f639fd88514b"
      },
      "execution_count": 6,
      "outputs": [
        {
          "output_type": "stream",
          "name": "stdout",
          "text": [
            "+----------+------------+--------+--------------+------+--------------------+\n",
            "|product_id|product_name|category|price_per_unit| brand| product_description|\n",
            "+----------+------------+--------+--------------+------+--------------------+\n",
            "|         1|      Butter|   Dairy|         28.58|BrandB|Description for Rice|\n",
            "|         2|      Butter|   Meats|         22.66|BrandB|Description for B...|\n",
            "|         3|        Milk|   Meats|         26.52|BrandE|Description for B...|\n",
            "|         4|      Banana|  Grains|         26.12|BrandB|Description for A...|\n",
            "|         5|        Rice|  Fruits|         21.94|BrandD|Description for B...|\n",
            "+----------+------------+--------+--------------+------+--------------------+\n",
            "only showing top 5 rows\n",
            "\n"
          ]
        }
      ]
    },
    {
      "cell_type": "code",
      "source": [
        "from google.colab import files\n",
        "uploaded = files.upload()"
      ],
      "metadata": {
        "colab": {
          "base_uri": "https://localhost:8080/",
          "height": 73
        },
        "id": "d-kR6ecMH6EV",
        "outputId": "16ff375f-8cd8-4c1f-cfe3-925b07838fff"
      },
      "execution_count": 7,
      "outputs": [
        {
          "output_type": "display_data",
          "data": {
            "text/plain": [
              "<IPython.core.display.HTML object>"
            ],
            "text/html": [
              "\n",
              "     <input type=\"file\" id=\"files-71817e9d-5ead-4a7f-aeb1-0bec805eaf54\" name=\"files[]\" multiple disabled\n",
              "        style=\"border:none\" />\n",
              "     <output id=\"result-71817e9d-5ead-4a7f-aeb1-0bec805eaf54\">\n",
              "      Upload widget is only available when the cell has been executed in the\n",
              "      current browser session. Please rerun this cell to enable.\n",
              "      </output>\n",
              "      <script>// Copyright 2017 Google LLC\n",
              "//\n",
              "// Licensed under the Apache License, Version 2.0 (the \"License\");\n",
              "// you may not use this file except in compliance with the License.\n",
              "// You may obtain a copy of the License at\n",
              "//\n",
              "//      http://www.apache.org/licenses/LICENSE-2.0\n",
              "//\n",
              "// Unless required by applicable law or agreed to in writing, software\n",
              "// distributed under the License is distributed on an \"AS IS\" BASIS,\n",
              "// WITHOUT WARRANTIES OR CONDITIONS OF ANY KIND, either express or implied.\n",
              "// See the License for the specific language governing permissions and\n",
              "// limitations under the License.\n",
              "\n",
              "/**\n",
              " * @fileoverview Helpers for google.colab Python module.\n",
              " */\n",
              "(function(scope) {\n",
              "function span(text, styleAttributes = {}) {\n",
              "  const element = document.createElement('span');\n",
              "  element.textContent = text;\n",
              "  for (const key of Object.keys(styleAttributes)) {\n",
              "    element.style[key] = styleAttributes[key];\n",
              "  }\n",
              "  return element;\n",
              "}\n",
              "\n",
              "// Max number of bytes which will be uploaded at a time.\n",
              "const MAX_PAYLOAD_SIZE = 100 * 1024;\n",
              "\n",
              "function _uploadFiles(inputId, outputId) {\n",
              "  const steps = uploadFilesStep(inputId, outputId);\n",
              "  const outputElement = document.getElementById(outputId);\n",
              "  // Cache steps on the outputElement to make it available for the next call\n",
              "  // to uploadFilesContinue from Python.\n",
              "  outputElement.steps = steps;\n",
              "\n",
              "  return _uploadFilesContinue(outputId);\n",
              "}\n",
              "\n",
              "// This is roughly an async generator (not supported in the browser yet),\n",
              "// where there are multiple asynchronous steps and the Python side is going\n",
              "// to poll for completion of each step.\n",
              "// This uses a Promise to block the python side on completion of each step,\n",
              "// then passes the result of the previous step as the input to the next step.\n",
              "function _uploadFilesContinue(outputId) {\n",
              "  const outputElement = document.getElementById(outputId);\n",
              "  const steps = outputElement.steps;\n",
              "\n",
              "  const next = steps.next(outputElement.lastPromiseValue);\n",
              "  return Promise.resolve(next.value.promise).then((value) => {\n",
              "    // Cache the last promise value to make it available to the next\n",
              "    // step of the generator.\n",
              "    outputElement.lastPromiseValue = value;\n",
              "    return next.value.response;\n",
              "  });\n",
              "}\n",
              "\n",
              "/**\n",
              " * Generator function which is called between each async step of the upload\n",
              " * process.\n",
              " * @param {string} inputId Element ID of the input file picker element.\n",
              " * @param {string} outputId Element ID of the output display.\n",
              " * @return {!Iterable<!Object>} Iterable of next steps.\n",
              " */\n",
              "function* uploadFilesStep(inputId, outputId) {\n",
              "  const inputElement = document.getElementById(inputId);\n",
              "  inputElement.disabled = false;\n",
              "\n",
              "  const outputElement = document.getElementById(outputId);\n",
              "  outputElement.innerHTML = '';\n",
              "\n",
              "  const pickedPromise = new Promise((resolve) => {\n",
              "    inputElement.addEventListener('change', (e) => {\n",
              "      resolve(e.target.files);\n",
              "    });\n",
              "  });\n",
              "\n",
              "  const cancel = document.createElement('button');\n",
              "  inputElement.parentElement.appendChild(cancel);\n",
              "  cancel.textContent = 'Cancel upload';\n",
              "  const cancelPromise = new Promise((resolve) => {\n",
              "    cancel.onclick = () => {\n",
              "      resolve(null);\n",
              "    };\n",
              "  });\n",
              "\n",
              "  // Wait for the user to pick the files.\n",
              "  const files = yield {\n",
              "    promise: Promise.race([pickedPromise, cancelPromise]),\n",
              "    response: {\n",
              "      action: 'starting',\n",
              "    }\n",
              "  };\n",
              "\n",
              "  cancel.remove();\n",
              "\n",
              "  // Disable the input element since further picks are not allowed.\n",
              "  inputElement.disabled = true;\n",
              "\n",
              "  if (!files) {\n",
              "    return {\n",
              "      response: {\n",
              "        action: 'complete',\n",
              "      }\n",
              "    };\n",
              "  }\n",
              "\n",
              "  for (const file of files) {\n",
              "    const li = document.createElement('li');\n",
              "    li.append(span(file.name, {fontWeight: 'bold'}));\n",
              "    li.append(span(\n",
              "        `(${file.type || 'n/a'}) - ${file.size} bytes, ` +\n",
              "        `last modified: ${\n",
              "            file.lastModifiedDate ? file.lastModifiedDate.toLocaleDateString() :\n",
              "                                    'n/a'} - `));\n",
              "    const percent = span('0% done');\n",
              "    li.appendChild(percent);\n",
              "\n",
              "    outputElement.appendChild(li);\n",
              "\n",
              "    const fileDataPromise = new Promise((resolve) => {\n",
              "      const reader = new FileReader();\n",
              "      reader.onload = (e) => {\n",
              "        resolve(e.target.result);\n",
              "      };\n",
              "      reader.readAsArrayBuffer(file);\n",
              "    });\n",
              "    // Wait for the data to be ready.\n",
              "    let fileData = yield {\n",
              "      promise: fileDataPromise,\n",
              "      response: {\n",
              "        action: 'continue',\n",
              "      }\n",
              "    };\n",
              "\n",
              "    // Use a chunked sending to avoid message size limits. See b/62115660.\n",
              "    let position = 0;\n",
              "    do {\n",
              "      const length = Math.min(fileData.byteLength - position, MAX_PAYLOAD_SIZE);\n",
              "      const chunk = new Uint8Array(fileData, position, length);\n",
              "      position += length;\n",
              "\n",
              "      const base64 = btoa(String.fromCharCode.apply(null, chunk));\n",
              "      yield {\n",
              "        response: {\n",
              "          action: 'append',\n",
              "          file: file.name,\n",
              "          data: base64,\n",
              "        },\n",
              "      };\n",
              "\n",
              "      let percentDone = fileData.byteLength === 0 ?\n",
              "          100 :\n",
              "          Math.round((position / fileData.byteLength) * 100);\n",
              "      percent.textContent = `${percentDone}% done`;\n",
              "\n",
              "    } while (position < fileData.byteLength);\n",
              "  }\n",
              "\n",
              "  // All done.\n",
              "  yield {\n",
              "    response: {\n",
              "      action: 'complete',\n",
              "    }\n",
              "  };\n",
              "}\n",
              "\n",
              "scope.google = scope.google || {};\n",
              "scope.google.colab = scope.google.colab || {};\n",
              "scope.google.colab._files = {\n",
              "  _uploadFiles,\n",
              "  _uploadFilesContinue,\n",
              "};\n",
              "})(self);\n",
              "</script> "
            ]
          },
          "metadata": {}
        },
        {
          "output_type": "stream",
          "name": "stdout",
          "text": [
            "Saving purchase_history_dataset.csv to purchase_history_dataset.csv\n"
          ]
        }
      ]
    },
    {
      "cell_type": "code",
      "source": [
        "purchase = spark.read.csv('purchase_history_dataset.csv', header=True)\n",
        "purchase.show(5)"
      ],
      "metadata": {
        "colab": {
          "base_uri": "https://localhost:8080/"
        },
        "id": "SfnJ_HUvH6Kq",
        "outputId": "8c142f05-b322-4e59-ab86-96cb4b978a04"
      },
      "execution_count": 8,
      "outputs": [
        {
          "output_type": "stream",
          "name": "stdout",
          "text": [
            "+-----------+-----------+----------+-------------------+--------+------------------+\n",
            "|purchase_id|customer_id|product_id|      purchase_date|quantity|      total_amount|\n",
            "+-----------+-----------+----------+-------------------+--------+------------------+\n",
            "|          1|          1|        42|2018-04-15 14:08:01|       3| 37.64207365077783|\n",
            "|          2|          1|       138|2022-07-10 23:33:47|       4| 70.24710587172727|\n",
            "|          3|          1|       403|2021-12-31 03:53:33|       3| 89.16889585975464|\n",
            "|          4|          1|       193|2017-01-14 01:25:11|       2| 59.70505931112876|\n",
            "|          5|          1|        26|2018-04-06 11:01:06|       3|101.77886387225126|\n",
            "+-----------+-----------+----------+-------------------+--------+------------------+\n",
            "only showing top 5 rows\n",
            "\n"
          ]
        }
      ]
    },
    {
      "cell_type": "markdown",
      "source": [
        "##Responde, ¿cuántos clientes llamados \"Robert\" (nota cómo hay Males y Females), compraron algún producto lácteo (Dairy) en 2022 ?"
      ],
      "metadata": {
        "id": "2zh5lFViKgpu"
      }
    },
    {
      "cell_type": "code",
      "source": [
        "# Filtrar clientes llamados \"Robert\"\n",
        "roberts = customer.filter(customer.first_name == \"Robert\")\n",
        "\n",
        "# Filtrar productos de la categoría \"Dairy\"\n",
        "dairy_products = products.filter(products.category == \"Dairy\")\n",
        "\n",
        "# Realizar los joins para vincular las tablas\n",
        "\n",
        "purchase_customers = purchase.join(roberts, purchase.customer_id == roberts.customer_id, how='inner')\n",
        "purchase_dairy_roberts = purchase_customers.join(dairy_products, purchase_customers.product_id == dairy_products.product_id, how='inner')\n",
        "purchase_dairy_roberts.show()\n",
        "purchase_dairy_roberts.count()\n",
        "\n",
        "# Calcular la cantidad de clientes llamados \"Robert\" que compraron productos lácteos en 2022\n",
        "\n",
        "purchase_dairy_roberts = purchase.withColumn('purchase_date', to_timestamp(col('purchase_date'), 'yyyy-MM-dd HH:mm:ss'))\\\n",
        "                                 .filter((col('purchase_date') >= lit(\"2022-01-01 00:00:00\")) & (col('purchase_date') <= lit(\"2022-12-31 23:59:59\")))\n",
        "purchase_dairy_roberts.count()\n",
        "\n",
        "\n"
      ],
      "metadata": {
        "colab": {
          "base_uri": "https://localhost:8080/"
        },
        "id": "UpFSDBmiIaPo",
        "outputId": "86dc840c-b24b-45c7-c8d9-53f4fdbe834a"
      },
      "execution_count": 34,
      "outputs": [
        {
          "output_type": "stream",
          "name": "stdout",
          "text": [
            "+-----------+-----------+----------+-------------------+--------+------------------+-----------+----------+---------+------+-------------------+--------------------+------------+-------------------+-------------+-----------+-----+--------+----------+------------+--------+--------------+------+--------------------+\n",
            "|purchase_id|customer_id|product_id|      purchase_date|quantity|      total_amount|customer_id|first_name|last_name|gender|      date_of_birth|               email|phone_number|        signup_date|      address|       city|state|zip_code|product_id|product_name|category|price_per_unit| brand| product_description|\n",
            "+-----------+-----------+----------+-------------------+--------+------------------+-----------+----------+---------+------+-------------------+--------------------+------------+-------------------+-------------+-----------+-----+--------+----------+------------+--------+--------------+------+--------------------+\n",
            "|         52|          5|       234|2021-05-04 02:15:16|       4|  151.406844284802|          5|    Robert|    Jones|  Male|1996-12-05 05:10:11|robert.martinez5@...|758-947-2802|2018-03-11 01:43:10|2820 Maple St|    Chicago|   TX|   36281|       234|       Bread|   Dairy|         21.57|BrandC|Description for C...|\n",
            "|         53|          5|       107|2019-04-07 22:42:53|       2| 90.11795885373196|          5|    Robert|    Jones|  Male|1996-12-05 05:10:11|robert.martinez5@...|758-947-2802|2018-03-11 01:43:10|2820 Maple St|    Chicago|   TX|   36281|       107|        Milk|   Dairy|          5.65|BrandC|Description for C...|\n",
            "|         84|          8|       475|2018-12-02 20:57:53|       1| 10.74372878830441|          8|    Robert|   Garcia|  Male|1961-08-23 20:07:35|john.davis8@mail.com|177-295-1630|2018-02-21 18:52:20| 6277 Pine St|    Chicago|   NY|   74294|       475|      Cheese|   Dairy|         14.34|BrandD|Description for Milk|\n",
            "|         85|          8|       292|2019-12-13 17:07:40|       2|20.366638821264953|          8|    Robert|   Garcia|  Male|1961-08-23 20:07:35|john.davis8@mail.com|177-295-1630|2018-02-21 18:52:20| 6277 Pine St|    Chicago|   NY|   74294|       292|        Eggs|   Dairy|         18.45|BrandE|Description for Milk|\n",
            "|        281|         29|       322|2021-04-10 14:29:44|       4|135.73190633523583|         29|    Robert|    Davis|  Male|1998-03-20 23:30:29|linda.davis29@mai...|793-512-6216|2020-01-22 04:49:56| 5906 Pine St|Los Angeles|   AZ|   87029|       322|      Cheese|   Dairy|         22.57|BrandC|Description for B...|\n",
            "|        282|         29|       240|2020-03-24 18:25:17|       4|175.41181869585773|         29|    Robert|    Davis|  Male|1998-03-20 23:30:29|linda.davis29@mai...|793-512-6216|2020-01-22 04:49:56| 5906 Pine St|Los Angeles|   AZ|   87029|       240|       Pasta|   Dairy|         18.41|BrandE|Description for B...|\n",
            "|        293|         29|       394|2023-03-25 05:58:34|       3|149.70358934075728|         29|    Robert|    Davis|  Male|1998-03-20 23:30:29|linda.davis29@mai...|793-512-6216|2020-01-22 04:49:56| 5906 Pine St|Los Angeles|   AZ|   87029|       394|     Chicken|   Dairy|          3.43|BrandE|Description for C...|\n",
            "|        363|         35|       422|2022-07-18 19:53:42|       5|166.16475753795152|         35|    Robert|Rodriguez|  Male|1995-09-13 02:42:35|michael.brown35@m...|742-871-2583|2020-07-25 07:10:14|  8935 Elm St|Los Angeles|   AZ|   44240|       422|       Pasta|   Dairy|          0.76|BrandB|Description for P...|\n",
            "|        365|         35|       218|2023-07-01 14:31:02|       4| 175.2222171625785|         35|    Robert|Rodriguez|  Male|1995-09-13 02:42:35|michael.brown35@m...|742-871-2583|2020-07-25 07:10:14|  8935 Elm St|Los Angeles|   AZ|   44240|       218|        Eggs|   Dairy|          12.6|BrandB|Description for C...|\n",
            "|        367|         35|       184|2021-01-17 20:29:34|       2| 68.87871064269247|         35|    Robert|Rodriguez|  Male|1995-09-13 02:42:35|michael.brown35@m...|742-871-2583|2020-07-25 07:10:14|  8935 Elm St|Los Angeles|   AZ|   44240|       184|       Apple|   Dairy|         26.19|BrandE|Description for P...|\n",
            "|        386|         38|       350|2020-06-20 08:23:28|       2| 92.37696163736732|         38|    Robert|Rodriguez|Female|1961-01-14 21:01:30|emily.jones38@mai...|217-188-6319|2018-01-17 00:14:11| 1582 Pine St|   New York|   IL|   22901|       350|      Butter|   Dairy|         10.88|BrandA|Description for B...|\n",
            "|        706|         69|       156|2019-08-12 10:29:38|       3| 89.80215207420422|         69|    Robert|    Smith|Female|1998-09-18 11:17:30|jessica.brown69@m...|171-402-1890|2018-01-19 11:56:10|  1570 Oak St|Los Angeles|   AZ|   79514|       156|       Apple|   Dairy|          8.21|BrandE|Description for C...|\n",
            "|        709|         69|         1|2018-11-27 10:17:26|       2| 98.22915887396296|         69|    Robert|    Smith|Female|1998-09-18 11:17:30|jessica.brown69@m...|171-402-1890|2018-01-19 11:56:10|  1570 Oak St|Los Angeles|   AZ|   79514|         1|      Butter|   Dairy|         28.58|BrandB|Description for Rice|\n",
            "|        838|         81|       154|2023-03-13 20:50:51|       2| 37.45161501636725|         81|    Robert| Williams|Female|1992-03-16 00:20:16|jane.brown81@mail...|126-670-1101|2022-10-20 06:11:59| 5128 Main St|Los Angeles|   TX|   68670|       154|        Milk|   Dairy|          4.41|BrandE|Description for B...|\n",
            "|        839|         81|       310|2023-10-14 13:49:17|       3| 7.893055141248115|         81|    Robert| Williams|Female|1992-03-16 00:20:16|jane.brown81@mail...|126-670-1101|2022-10-20 06:11:59| 5128 Main St|Los Angeles|   TX|   68670|       310|        Rice|   Dairy|         20.58|BrandB|Description for B...|\n",
            "|        990|         95|       330|2022-01-08 15:02:59|       3| 94.02865876151932|         95|    Robert|   Miller|Female|1997-11-27 23:47:06|michael.garcia95@...|622-826-6313|2018-11-13 05:45:55| 9436 Main St|    Chicago|   AZ|   53958|       330|       Bread|   Dairy|          1.53|BrandB|Description for B...|\n",
            "|       1030|         98|       195|2021-04-15 18:38:50|       5|30.141279748164024|         98|    Robert|    Smith|Female|1978-01-29 10:45:15|robert.rodriguez9...|411-245-4205|2019-08-29 16:16:49| 7081 Main St|   New York|   AZ|   34145|       195|        Rice|   Dairy|           9.9|BrandD|Description for B...|\n",
            "|       1033|         98|       161|2022-10-31 07:12:37|       2|30.683008120534435|         98|    Robert|    Smith|Female|1978-01-29 10:45:15|robert.rodriguez9...|411-245-4205|2019-08-29 16:16:49| 7081 Main St|   New York|   AZ|   34145|       161|       Pasta|   Dairy|         18.31|BrandC|Description for Milk|\n",
            "|       1064|        103|        67|2022-11-21 07:20:54|       5|173.88177139907637|        103|    Robert| Martinez|Female|1983-05-03 16:08:03|michael.smith103@...|515-408-1806|2020-09-07 15:45:48|  407 Main St|    Houston|   TX|   47496|        67|        Eggs|   Dairy|          11.8|BrandA|Description for Milk|\n",
            "|       1066|        103|        59|2023-06-11 03:54:51|       4|124.20727758432572|        103|    Robert| Martinez|Female|1983-05-03 16:08:03|michael.smith103@...|515-408-1806|2020-09-07 15:45:48|  407 Main St|    Houston|   TX|   47496|        59|       Apple|   Dairy|          11.8|BrandD|Description for Rice|\n",
            "+-----------+-----------+----------+-------------------+--------+------------------+-----------+----------+---------+------+-------------------+--------------------+------------+-------------------+-------------+-----------+-----+--------+----------+------------+--------+--------------+------+--------------------+\n",
            "only showing top 20 rows\n",
            "\n"
          ]
        },
        {
          "output_type": "execute_result",
          "data": {
            "text/plain": [
              "2434"
            ]
          },
          "metadata": {},
          "execution_count": 34
        }
      ]
    },
    {
      "cell_type": "markdown",
      "source": [
        "##Eres empleado de BrandB. ¿En cuáles ciudades has vendido una mayor cantidad? (total_amount)"
      ],
      "metadata": {
        "id": "mXXtPAy_VHic"
      }
    },
    {
      "cell_type": "code",
      "source": [
        "from pyspark.sql.functions import sum\n",
        "\n",
        "# Filtrar las compras relacionadas con BrandB\n",
        "brandb_sales = purchase.join(products, purchase.product_id == products.product_id, how='inner')\\\n",
        "                       .filter(col('brand') == 'BrandB')\n",
        "\n",
        "# Unir tablas\n",
        "brandb_city_sales = brandb_sales.join(customer, brandb_sales.customer_id == customer.customer_id, how='inner')\n",
        "\n",
        "city_sales = brandb_city_sales.groupBy(\"city\").agg(sum(\"total_amount\").alias(\"total_sales\"))\n",
        "#Ordenar\n",
        "top_cities = city_sales.orderBy(col(\"total_sales\").desc())\n",
        "top_cities.show()\n"
      ],
      "metadata": {
        "colab": {
          "base_uri": "https://localhost:8080/"
        },
        "id": "P0IWtWUpVG9C",
        "outputId": "309a298a-9c75-4ec8-a042-47762f699c32"
      },
      "execution_count": 37,
      "outputs": [
        {
          "output_type": "stream",
          "name": "stdout",
          "text": [
            "+------------+------------------+\n",
            "|        city|       total_sales|\n",
            "+------------+------------------+\n",
            "|     Chicago|29557.642903425036|\n",
            "|     Houston| 28586.38258782695|\n",
            "|     Phoenix| 28041.96419969516|\n",
            "|Philadelphia|27492.074313737838|\n",
            "|    New York|27246.218068437967|\n",
            "| San Antonio|25221.051797835673|\n",
            "| Los Angeles|23819.529899740137|\n",
            "+------------+------------------+\n",
            "\n"
          ]
        }
      ]
    },
    {
      "cell_type": "markdown",
      "source": [
        "##¿De cuánto es la mayor cantidad (quantity) que ha sido comprado por algún hombre O cuyo producto sea pan (Bread)?"
      ],
      "metadata": {
        "id": "Fbg27ALIV8C4"
      }
    },
    {
      "cell_type": "code",
      "source": [
        "from pyspark.sql.functions import col, lit, max\n",
        "\n",
        "# Filtrar compras realizadas por hombres\n",
        "male_purchases = purchase.join(customer, purchase.customer_id == customer.customer_id, how='inner')\\\n",
        "                         .filter(col('gender') == 'Male')\\\n",
        "                         .select(\"quantity\")  # Selecciona solo la columna necesaria\n",
        "\n",
        "# Filtrar compras cuyo producto sea pan (Bread)\n",
        "bread_purchases = purchase.join(products, purchase.product_id == products.product_id, how='inner')\\\n",
        "                          .filter(col('product_name') == 'Bread')\\\n",
        "                          .select(\"quantity\")  # Selecciona solo la columna necesaria\n",
        "\n",
        "# Combinar (Hombres O Producto Pan)\n",
        "combined_purchases = male_purchases.union(bread_purchases)\n",
        "\n",
        "# Encontrar la mayor con (quantity)\n",
        "max_quantity = combined_purchases.agg(max(\"quantity\").alias(\"max_quantity\"))\n",
        "max_quantity.show()\n"
      ],
      "metadata": {
        "colab": {
          "base_uri": "https://localhost:8080/"
        },
        "id": "vzslIUNiV70T",
        "outputId": "32ee1e92-e9aa-4917-c43b-2d7069d81d3d"
      },
      "execution_count": 41,
      "outputs": [
        {
          "output_type": "stream",
          "name": "stdout",
          "text": [
            "+------------+\n",
            "|max_quantity|\n",
            "+------------+\n",
            "|           5|\n",
            "+------------+\n",
            "\n"
          ]
        }
      ]
    }
  ]
}